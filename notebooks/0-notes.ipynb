{
 "cells": [
  {
   "cell_type": "markdown",
   "metadata": {},
   "source": [
    "## Approaches:\n",
    "1. `requests` and `BeautifulSoup` are useful for making HTTP requests to fetch static content (HTML or XML) and parse it.\n",
    "1. `Selenium` is useful for interacting with web-pages to scrape dynamic content from websites (it's slower)\n",
    "1. Many websites e.g. Reddit and Twitter have APIs - but they are paid and expensive (especially when starting out)\n",
    "1. Do we need legal?\n",
    "\n",
    "## Goal:\n",
    "Create a pipeline to web-scrape many sources of information, assign confidence levels to the information (given the reliability of the source, historical correctness, CoT analysis), and condense the information into an easily digestable feed (using an LLM).\n",
    "\n",
    "## System Architechture\n",
    "- Scraper: Regularly scans the web for relevant information (content, source)\n",
    "- RDB (Raw Information Database): Stores the output of the scraper for a limited amount of time (until we don't need it anymore)\n",
    "- Summariser: Summarises information (from the RDB) into a user friendly representation (Trading 212 and/or Perplexity style)\n",
    "- SDM (Summarised Information Database): Stores the output of the summariser for a long time (possibly forever)\n",
    "- Historical Analyser:\n",
    "    - Keeps track of how well different information does historically\n",
    "    - Sources with \"good\" historical information are assignes higher confidence levels to them\n",
    "    - Incoming information in the SDM is tagged with a confidence level based on the source\n",
    "- Consistancy Analysis:\n",
    "    - Observes how much different sources of information agree or disagree\n",
    "    - Assignes high confidence if many sources agree and low confidence otherwise\n",
    "- Open questions:\n",
    "    - How can we decide if a historical piece of information was \"good\"? How to decide the window over which to evaluate? MVP\n",
    "    - How do we present confidence when the histical analyser and consistancy analyser disagree? MVP\n",
    "    - How can we account for the fact that different sources are \"good\" in different situations? LT"
   ]
  },
  {
   "cell_type": "markdown",
   "metadata": {},
   "source": [
    "MVP: Implement this pipeline with one stock and three sources"
   ]
  },
  {
   "cell_type": "markdown",
   "metadata": {},
   "source": [
    "Amazon\n",
    "1. Wallstreet Journal, (Bloomberg), YahooFinance, FT\n",
    "1. Balance sheets\n",
    "1. Twitter (using the ticker `$AMZN`)\n"
   ]
  },
  {
   "cell_type": "markdown",
   "metadata": {},
   "source": [
    "Scaling predictions"
   ]
  }
 ],
 "metadata": {
  "kernelspec": {
   "display_name": ".venv",
   "language": "python",
   "name": "python3"
  },
  "language_info": {
   "codemirror_mode": {
    "name": "ipython",
    "version": 3
   },
   "file_extension": ".py",
   "mimetype": "text/x-python",
   "name": "python",
   "nbconvert_exporter": "python",
   "pygments_lexer": "ipython3",
   "version": "3.9.6"
  }
 },
 "nbformat": 4,
 "nbformat_minor": 2
}
